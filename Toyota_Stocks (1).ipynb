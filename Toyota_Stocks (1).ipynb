{
 "cells": [
  {
   "cell_type": "raw",
   "id": "d2a6af63-dcc2-405c-9798-fa7d59c85246",
   "metadata": {},
   "source": [
    "Loading and Reading the dataset"
   ]
  },
  {
   "cell_type": "code",
   "execution_count": 42,
   "id": "3b110e9c-3c4a-4068-9ef3-3818d8422bb3",
   "metadata": {},
   "outputs": [
    {
     "data": {
      "text/html": [
       "<div>\n",
       "<style scoped>\n",
       "    .dataframe tbody tr th:only-of-type {\n",
       "        vertical-align: middle;\n",
       "    }\n",
       "\n",
       "    .dataframe tbody tr th {\n",
       "        vertical-align: top;\n",
       "    }\n",
       "\n",
       "    .dataframe thead th {\n",
       "        text-align: right;\n",
       "    }\n",
       "</style>\n",
       "<table border=\"1\" class=\"dataframe\">\n",
       "  <thead>\n",
       "    <tr style=\"text-align: right;\">\n",
       "      <th></th>\n",
       "      <th>Date</th>\n",
       "      <th>Adj Close</th>\n",
       "      <th>Close</th>\n",
       "      <th>High</th>\n",
       "      <th>Low</th>\n",
       "      <th>Open</th>\n",
       "      <th>Volume</th>\n",
       "    </tr>\n",
       "  </thead>\n",
       "  <tbody>\n",
       "    <tr>\n",
       "      <th>0</th>\n",
       "      <td>1980-03-17</td>\n",
       "      <td>2.296798</td>\n",
       "      <td>3.291227</td>\n",
       "      <td>3.344743</td>\n",
       "      <td>3.291227</td>\n",
       "      <td>0.000000</td>\n",
       "      <td>41109</td>\n",
       "    </tr>\n",
       "    <tr>\n",
       "      <th>1</th>\n",
       "      <td>1980-03-18</td>\n",
       "      <td>2.306134</td>\n",
       "      <td>3.304606</td>\n",
       "      <td>3.358122</td>\n",
       "      <td>3.304606</td>\n",
       "      <td>0.000000</td>\n",
       "      <td>9343</td>\n",
       "    </tr>\n",
       "    <tr>\n",
       "      <th>2</th>\n",
       "      <td>1980-03-19</td>\n",
       "      <td>2.306134</td>\n",
       "      <td>3.304606</td>\n",
       "      <td>3.304606</td>\n",
       "      <td>3.304606</td>\n",
       "      <td>3.304606</td>\n",
       "      <td>0</td>\n",
       "    </tr>\n",
       "    <tr>\n",
       "      <th>3</th>\n",
       "      <td>1980-03-20</td>\n",
       "      <td>2.306134</td>\n",
       "      <td>3.304606</td>\n",
       "      <td>3.358122</td>\n",
       "      <td>3.304606</td>\n",
       "      <td>0.000000</td>\n",
       "      <td>10277</td>\n",
       "    </tr>\n",
       "    <tr>\n",
       "      <th>4</th>\n",
       "      <td>1980-03-21</td>\n",
       "      <td>2.362154</td>\n",
       "      <td>3.384880</td>\n",
       "      <td>3.438396</td>\n",
       "      <td>3.384880</td>\n",
       "      <td>0.000000</td>\n",
       "      <td>8409</td>\n",
       "    </tr>\n",
       "    <tr>\n",
       "      <th>...</th>\n",
       "      <td>...</td>\n",
       "      <td>...</td>\n",
       "      <td>...</td>\n",
       "      <td>...</td>\n",
       "      <td>...</td>\n",
       "      <td>...</td>\n",
       "      <td>...</td>\n",
       "    </tr>\n",
       "    <tr>\n",
       "      <th>11286</th>\n",
       "      <td>2024-12-20</td>\n",
       "      <td>178.169998</td>\n",
       "      <td>178.169998</td>\n",
       "      <td>179.919998</td>\n",
       "      <td>175.839996</td>\n",
       "      <td>175.839996</td>\n",
       "      <td>425700</td>\n",
       "    </tr>\n",
       "    <tr>\n",
       "      <th>11287</th>\n",
       "      <td>2024-12-23</td>\n",
       "      <td>180.449997</td>\n",
       "      <td>180.449997</td>\n",
       "      <td>180.619995</td>\n",
       "      <td>177.970001</td>\n",
       "      <td>179.119995</td>\n",
       "      <td>422700</td>\n",
       "    </tr>\n",
       "    <tr>\n",
       "      <th>11288</th>\n",
       "      <td>2024-12-24</td>\n",
       "      <td>181.429993</td>\n",
       "      <td>181.429993</td>\n",
       "      <td>181.720001</td>\n",
       "      <td>180.830002</td>\n",
       "      <td>181.000000</td>\n",
       "      <td>168600</td>\n",
       "    </tr>\n",
       "    <tr>\n",
       "      <th>11289</th>\n",
       "      <td>2024-12-26</td>\n",
       "      <td>197.360001</td>\n",
       "      <td>197.360001</td>\n",
       "      <td>198.000000</td>\n",
       "      <td>193.130005</td>\n",
       "      <td>195.970001</td>\n",
       "      <td>1281200</td>\n",
       "    </tr>\n",
       "    <tr>\n",
       "      <th>11290</th>\n",
       "      <td>2024-12-27</td>\n",
       "      <td>199.520004</td>\n",
       "      <td>199.520004</td>\n",
       "      <td>201.000000</td>\n",
       "      <td>198.179993</td>\n",
       "      <td>200.360001</td>\n",
       "      <td>779500</td>\n",
       "    </tr>\n",
       "  </tbody>\n",
       "</table>\n",
       "<p>11291 rows × 7 columns</p>\n",
       "</div>"
      ],
      "text/plain": [
       "             Date   Adj Close       Close        High         Low        Open  \\\n",
       "0      1980-03-17    2.296798    3.291227    3.344743    3.291227    0.000000   \n",
       "1      1980-03-18    2.306134    3.304606    3.358122    3.304606    0.000000   \n",
       "2      1980-03-19    2.306134    3.304606    3.304606    3.304606    3.304606   \n",
       "3      1980-03-20    2.306134    3.304606    3.358122    3.304606    0.000000   \n",
       "4      1980-03-21    2.362154    3.384880    3.438396    3.384880    0.000000   \n",
       "...           ...         ...         ...         ...         ...         ...   \n",
       "11286  2024-12-20  178.169998  178.169998  179.919998  175.839996  175.839996   \n",
       "11287  2024-12-23  180.449997  180.449997  180.619995  177.970001  179.119995   \n",
       "11288  2024-12-24  181.429993  181.429993  181.720001  180.830002  181.000000   \n",
       "11289  2024-12-26  197.360001  197.360001  198.000000  193.130005  195.970001   \n",
       "11290  2024-12-27  199.520004  199.520004  201.000000  198.179993  200.360001   \n",
       "\n",
       "        Volume  \n",
       "0        41109  \n",
       "1         9343  \n",
       "2            0  \n",
       "3        10277  \n",
       "4         8409  \n",
       "...        ...  \n",
       "11286   425700  \n",
       "11287   422700  \n",
       "11288   168600  \n",
       "11289  1281200  \n",
       "11290   779500  \n",
       "\n",
       "[11291 rows x 7 columns]"
      ]
     },
     "execution_count": 42,
     "metadata": {},
     "output_type": "execute_result"
    }
   ],
   "source": [
    "import pandas as pd\n",
    "import numpy as np\n",
    "data=pd.read_csv(r\"C:\\Users\\k.navadeepreddy\\Downloads\\Toyota_Data.csv\")\n",
    "data"
   ]
  },
  {
   "cell_type": "code",
   "execution_count": 43,
   "id": "efc92a66-f592-4e00-81b8-452460942d51",
   "metadata": {},
   "outputs": [],
   "source": [
    "data[\"Date\"]=pd.to_datetime(data[\"Date\"])"
   ]
  },
  {
   "cell_type": "raw",
   "id": "d10b7592-d2bd-4fe3-aec8-8a4f96e7ef55",
   "metadata": {},
   "source": [
    "Data Preprocessing"
   ]
  },
  {
   "cell_type": "code",
   "execution_count": 44,
   "id": "211c9578-5718-457a-b106-f7bf8cd7afff",
   "metadata": {},
   "outputs": [],
   "source": [
    "data=data[['Close']]\n",
    "from sklearn.preprocessing import MinMaxScaler\n",
    "mmc=MinMaxScaler(feature_range=(0,1))\n",
    "scaled_data=mmc.fit_transform(data)"
   ]
  },
  {
   "cell_type": "raw",
   "id": "369177d8-7809-4361-9cfa-c18f6762c24e",
   "metadata": {},
   "source": [
    "no.of time steps"
   ]
  },
  {
   "cell_type": "code",
   "execution_count": 46,
   "id": "d06499ca-01e7-4b72-8bf4-139c574a5431",
   "metadata": {},
   "outputs": [],
   "source": [
    "time_steps=60"
   ]
  },
  {
   "cell_type": "raw",
   "id": "3da41a20-beda-49cd-a296-4080c78aff5e",
   "metadata": {},
   "source": [
    "generating time series sequences"
   ]
  },
  {
   "cell_type": "code",
   "execution_count": 47,
   "id": "377576ca-f10a-4b10-b260-6fe11d5881de",
   "metadata": {},
   "outputs": [],
   "source": [
    "import tensorflow\n",
    "from tensorflow.keras.preprocessing.sequence import TimeseriesGenerator\n",
    "generator=TimeseriesGenerator(scaled_data,scaled_data,length=time_steps,batch_size=32)"
   ]
  },
  {
   "cell_type": "raw",
   "id": "6c1c90ee-cc87-42b1-a2d1-51c9a623421a",
   "metadata": {},
   "source": [
    "data for training and test"
   ]
  },
  {
   "cell_type": "code",
   "execution_count": 48,
   "id": "07b532ad-a37b-4fad-b247-2473ea54061f",
   "metadata": {},
   "outputs": [],
   "source": [
    "train_size=int(len(scaled_data)*0.8)\n",
    "train_data=scaled_data[:train_size]\n",
    "test_data=scaled_data[train_size:]"
   ]
  },
  {
   "cell_type": "raw",
   "id": "7b3b0fc5-6f27-4a72-9e93-891383d71172",
   "metadata": {},
   "source": [
    "time series sequences for training and test data"
   ]
  },
  {
   "cell_type": "code",
   "execution_count": 49,
   "id": "ea4aca76-8ff4-4661-bcae-9951ec44c837",
   "metadata": {},
   "outputs": [],
   "source": [
    "train_sequence_generator=TimeseriesGenerator(train_data,train_data,length=time_steps,batch_size=32)\n",
    "test_sequence_generator=TimeseriesGenerator(test_data,test_data,length=time_steps,batch_size=32)"
   ]
  },
  {
   "cell_type": "raw",
   "id": "a12bee9c-93b0-4cd5-b3a0-f291df765f8c",
   "metadata": {},
   "source": [
    "applying lstm's"
   ]
  },
  {
   "cell_type": "code",
   "execution_count": 50,
   "id": "0a806322-4a0b-44c4-a959-a0f3398a0a56",
   "metadata": {},
   "outputs": [
    {
     "name": "stderr",
     "output_type": "stream",
     "text": [
      "C:\\Users\\k.navadeepreddy\\anaconda3\\Lib\\site-packages\\keras\\src\\layers\\rnn\\rnn.py:204: UserWarning: Do not pass an `input_shape`/`input_dim` argument to a layer. When using Sequential models, prefer using an `Input(shape)` object as the first layer in the model instead.\n",
      "  super().__init__(**kwargs)\n"
     ]
    }
   ],
   "source": [
    "from tensorflow.keras.models import Sequential\n",
    "from tensorflow.keras.layers import Dense,LSTM\n",
    "model=Sequential()\n",
    "model.add(LSTM(45,activation='relu',input_shape=(time_steps,1)))\n",
    "model.add(Dense(1))"
   ]
  },
  {
   "cell_type": "raw",
   "id": "cea10052-84ae-40cd-942c-e3fe4d7176ad",
   "metadata": {},
   "source": [
    "training the model"
   ]
  },
  {
   "cell_type": "code",
   "execution_count": 51,
   "id": "fc5af669-7577-4f86-aebf-34843f06ecb7",
   "metadata": {
    "scrolled": true
   },
   "outputs": [
    {
     "name": "stdout",
     "output_type": "stream",
     "text": [
      "Epoch 1/40\n"
     ]
    },
    {
     "name": "stderr",
     "output_type": "stream",
     "text": [
      "C:\\Users\\k.navadeepreddy\\anaconda3\\Lib\\site-packages\\keras\\src\\trainers\\data_adapters\\py_dataset_adapter.py:121: UserWarning: Your `PyDataset` class should call `super().__init__(**kwargs)` in its constructor. `**kwargs` can include `workers`, `use_multiprocessing`, `max_queue_size`. Do not pass these arguments to `fit()`, as they will be ignored.\n",
      "  self._warn_if_super_not_called()\n"
     ]
    },
    {
     "name": "stdout",
     "output_type": "stream",
     "text": [
      "\u001b[1m281/281\u001b[0m \u001b[32m━━━━━━━━━━━━━━━━━━━━\u001b[0m\u001b[37m\u001b[0m \u001b[1m4s\u001b[0m 9ms/step - loss: 0.0276 - val_loss: 0.0660\n",
      "Epoch 2/40\n",
      "\u001b[1m281/281\u001b[0m \u001b[32m━━━━━━━━━━━━━━━━━━━━\u001b[0m\u001b[37m\u001b[0m \u001b[1m3s\u001b[0m 9ms/step - loss: 1.2437e-04 - val_loss: 0.0122\n",
      "Epoch 3/40\n",
      "\u001b[1m281/281\u001b[0m \u001b[32m━━━━━━━━━━━━━━━━━━━━\u001b[0m\u001b[37m\u001b[0m \u001b[1m3s\u001b[0m 9ms/step - loss: 1.4051e-04 - val_loss: 0.0091\n",
      "Epoch 4/40\n",
      "\u001b[1m281/281\u001b[0m \u001b[32m━━━━━━━━━━━━━━━━━━━━\u001b[0m\u001b[37m\u001b[0m \u001b[1m3s\u001b[0m 9ms/step - loss: 9.0353e-05 - val_loss: 0.0064\n",
      "Epoch 5/40\n",
      "\u001b[1m281/281\u001b[0m \u001b[32m━━━━━━━━━━━━━━━━━━━━\u001b[0m\u001b[37m\u001b[0m \u001b[1m3s\u001b[0m 9ms/step - loss: 9.5542e-05 - val_loss: 0.0015\n",
      "Epoch 6/40\n",
      "\u001b[1m281/281\u001b[0m \u001b[32m━━━━━━━━━━━━━━━━━━━━\u001b[0m\u001b[37m\u001b[0m \u001b[1m3s\u001b[0m 9ms/step - loss: 1.0906e-04 - val_loss: 0.0028\n",
      "Epoch 7/40\n",
      "\u001b[1m281/281\u001b[0m \u001b[32m━━━━━━━━━━━━━━━━━━━━\u001b[0m\u001b[37m\u001b[0m \u001b[1m3s\u001b[0m 9ms/step - loss: 8.7886e-05 - val_loss: 0.0016\n",
      "Epoch 8/40\n",
      "\u001b[1m281/281\u001b[0m \u001b[32m━━━━━━━━━━━━━━━━━━━━\u001b[0m\u001b[37m\u001b[0m \u001b[1m2s\u001b[0m 9ms/step - loss: 7.8472e-05 - val_loss: 0.0012\n",
      "Epoch 9/40\n",
      "\u001b[1m281/281\u001b[0m \u001b[32m━━━━━━━━━━━━━━━━━━━━\u001b[0m\u001b[37m\u001b[0m \u001b[1m3s\u001b[0m 9ms/step - loss: 7.0240e-05 - val_loss: 0.0016\n",
      "Epoch 10/40\n",
      "\u001b[1m281/281\u001b[0m \u001b[32m━━━━━━━━━━━━━━━━━━━━\u001b[0m\u001b[37m\u001b[0m \u001b[1m3s\u001b[0m 9ms/step - loss: 1.1403e-04 - val_loss: 5.2650e-04\n",
      "Epoch 11/40\n",
      "\u001b[1m281/281\u001b[0m \u001b[32m━━━━━━━━━━━━━━━━━━━━\u001b[0m\u001b[37m\u001b[0m \u001b[1m3s\u001b[0m 9ms/step - loss: 9.1725e-05 - val_loss: 4.8016e-04\n",
      "Epoch 12/40\n",
      "\u001b[1m281/281\u001b[0m \u001b[32m━━━━━━━━━━━━━━━━━━━━\u001b[0m\u001b[37m\u001b[0m \u001b[1m2s\u001b[0m 9ms/step - loss: 5.9398e-05 - val_loss: 5.6362e-04\n",
      "Epoch 13/40\n",
      "\u001b[1m281/281\u001b[0m \u001b[32m━━━━━━━━━━━━━━━━━━━━\u001b[0m\u001b[37m\u001b[0m \u001b[1m3s\u001b[0m 9ms/step - loss: 6.8032e-05 - val_loss: 5.5476e-04\n",
      "Epoch 14/40\n",
      "\u001b[1m281/281\u001b[0m \u001b[32m━━━━━━━━━━━━━━━━━━━━\u001b[0m\u001b[37m\u001b[0m \u001b[1m3s\u001b[0m 9ms/step - loss: 6.5677e-05 - val_loss: 4.1690e-04\n",
      "Epoch 15/40\n",
      "\u001b[1m281/281\u001b[0m \u001b[32m━━━━━━━━━━━━━━━━━━━━\u001b[0m\u001b[37m\u001b[0m \u001b[1m3s\u001b[0m 9ms/step - loss: 7.6062e-05 - val_loss: 2.9752e-04\n",
      "Epoch 16/40\n",
      "\u001b[1m281/281\u001b[0m \u001b[32m━━━━━━━━━━━━━━━━━━━━\u001b[0m\u001b[37m\u001b[0m \u001b[1m3s\u001b[0m 9ms/step - loss: 5.0224e-05 - val_loss: 3.2797e-04\n",
      "Epoch 17/40\n",
      "\u001b[1m281/281\u001b[0m \u001b[32m━━━━━━━━━━━━━━━━━━━━\u001b[0m\u001b[37m\u001b[0m \u001b[1m3s\u001b[0m 9ms/step - loss: 5.3260e-05 - val_loss: 2.4257e-04\n",
      "Epoch 18/40\n",
      "\u001b[1m281/281\u001b[0m \u001b[32m━━━━━━━━━━━━━━━━━━━━\u001b[0m\u001b[37m\u001b[0m \u001b[1m2s\u001b[0m 9ms/step - loss: 6.3783e-05 - val_loss: 2.1686e-04\n",
      "Epoch 19/40\n",
      "\u001b[1m281/281\u001b[0m \u001b[32m━━━━━━━━━━━━━━━━━━━━\u001b[0m\u001b[37m\u001b[0m \u001b[1m3s\u001b[0m 9ms/step - loss: 6.6106e-05 - val_loss: 2.9272e-04\n",
      "Epoch 20/40\n",
      "\u001b[1m281/281\u001b[0m \u001b[32m━━━━━━━━━━━━━━━━━━━━\u001b[0m\u001b[37m\u001b[0m \u001b[1m3s\u001b[0m 9ms/step - loss: 2.5008e-04 - val_loss: 2.1671e-04\n",
      "Epoch 21/40\n",
      "\u001b[1m281/281\u001b[0m \u001b[32m━━━━━━━━━━━━━━━━━━━━\u001b[0m\u001b[37m\u001b[0m \u001b[1m3s\u001b[0m 9ms/step - loss: 3.7371e-05 - val_loss: 1.8665e-04\n",
      "Epoch 22/40\n",
      "\u001b[1m281/281\u001b[0m \u001b[32m━━━━━━━━━━━━━━━━━━━━\u001b[0m\u001b[37m\u001b[0m \u001b[1m3s\u001b[0m 9ms/step - loss: 4.2800e-05 - val_loss: 1.6545e-04\n",
      "Epoch 23/40\n",
      "\u001b[1m281/281\u001b[0m \u001b[32m━━━━━━━━━━━━━━━━━━━━\u001b[0m\u001b[37m\u001b[0m \u001b[1m3s\u001b[0m 9ms/step - loss: 3.6567e-05 - val_loss: 1.6258e-04\n",
      "Epoch 24/40\n",
      "\u001b[1m281/281\u001b[0m \u001b[32m━━━━━━━━━━━━━━━━━━━━\u001b[0m\u001b[37m\u001b[0m \u001b[1m2s\u001b[0m 9ms/step - loss: 3.5273e-05 - val_loss: 1.7816e-04\n",
      "Epoch 25/40\n",
      "\u001b[1m281/281\u001b[0m \u001b[32m━━━━━━━━━━━━━━━━━━━━\u001b[0m\u001b[37m\u001b[0m \u001b[1m3s\u001b[0m 9ms/step - loss: 4.9562e-05 - val_loss: 1.4987e-04\n",
      "Epoch 26/40\n",
      "\u001b[1m281/281\u001b[0m \u001b[32m━━━━━━━━━━━━━━━━━━━━\u001b[0m\u001b[37m\u001b[0m \u001b[1m2s\u001b[0m 9ms/step - loss: 4.8144e-05 - val_loss: 1.9741e-04\n",
      "Epoch 27/40\n",
      "\u001b[1m281/281\u001b[0m \u001b[32m━━━━━━━━━━━━━━━━━━━━\u001b[0m\u001b[37m\u001b[0m \u001b[1m2s\u001b[0m 9ms/step - loss: 4.5588e-05 - val_loss: 1.7876e-04\n",
      "Epoch 28/40\n",
      "\u001b[1m281/281\u001b[0m \u001b[32m━━━━━━━━━━━━━━━━━━━━\u001b[0m\u001b[37m\u001b[0m \u001b[1m3s\u001b[0m 9ms/step - loss: 4.2285e-05 - val_loss: 1.3527e-04\n",
      "Epoch 29/40\n",
      "\u001b[1m281/281\u001b[0m \u001b[32m━━━━━━━━━━━━━━━━━━━━\u001b[0m\u001b[37m\u001b[0m \u001b[1m3s\u001b[0m 9ms/step - loss: 3.6503e-05 - val_loss: 2.6618e-04\n",
      "Epoch 30/40\n",
      "\u001b[1m281/281\u001b[0m \u001b[32m━━━━━━━━━━━━━━━━━━━━\u001b[0m\u001b[37m\u001b[0m \u001b[1m3s\u001b[0m 9ms/step - loss: 3.6589e-05 - val_loss: 6.8182e-04\n",
      "Epoch 31/40\n",
      "\u001b[1m281/281\u001b[0m \u001b[32m━━━━━━━━━━━━━━━━━━━━\u001b[0m\u001b[37m\u001b[0m \u001b[1m3s\u001b[0m 9ms/step - loss: 6.2621e-05 - val_loss: 1.1964e-04\n",
      "Epoch 32/40\n",
      "\u001b[1m281/281\u001b[0m \u001b[32m━━━━━━━━━━━━━━━━━━━━\u001b[0m\u001b[37m\u001b[0m \u001b[1m3s\u001b[0m 9ms/step - loss: 3.3414e-05 - val_loss: 1.6092e-04\n",
      "Epoch 33/40\n",
      "\u001b[1m281/281\u001b[0m \u001b[32m━━━━━━━━━━━━━━━━━━━━\u001b[0m\u001b[37m\u001b[0m \u001b[1m3s\u001b[0m 9ms/step - loss: 3.1188e-05 - val_loss: 1.3193e-04\n",
      "Epoch 34/40\n",
      "\u001b[1m281/281\u001b[0m \u001b[32m━━━━━━━━━━━━━━━━━━━━\u001b[0m\u001b[37m\u001b[0m \u001b[1m3s\u001b[0m 9ms/step - loss: 3.1957e-05 - val_loss: 1.2106e-04\n",
      "Epoch 35/40\n",
      "\u001b[1m281/281\u001b[0m \u001b[32m━━━━━━━━━━━━━━━━━━━━\u001b[0m\u001b[37m\u001b[0m \u001b[1m3s\u001b[0m 9ms/step - loss: 3.0320e-05 - val_loss: 1.0951e-04\n",
      "Epoch 36/40\n",
      "\u001b[1m281/281\u001b[0m \u001b[32m━━━━━━━━━━━━━━━━━━━━\u001b[0m\u001b[37m\u001b[0m \u001b[1m3s\u001b[0m 9ms/step - loss: 3.3989e-05 - val_loss: 1.0661e-04\n",
      "Epoch 37/40\n",
      "\u001b[1m281/281\u001b[0m \u001b[32m━━━━━━━━━━━━━━━━━━━━\u001b[0m\u001b[37m\u001b[0m \u001b[1m3s\u001b[0m 9ms/step - loss: 3.3876e-05 - val_loss: 1.2009e-04\n",
      "Epoch 38/40\n",
      "\u001b[1m281/281\u001b[0m \u001b[32m━━━━━━━━━━━━━━━━━━━━\u001b[0m\u001b[37m\u001b[0m \u001b[1m3s\u001b[0m 9ms/step - loss: 3.6008e-05 - val_loss: 1.5684e-04\n",
      "Epoch 39/40\n",
      "\u001b[1m281/281\u001b[0m \u001b[32m━━━━━━━━━━━━━━━━━━━━\u001b[0m\u001b[37m\u001b[0m \u001b[1m3s\u001b[0m 9ms/step - loss: 2.5929e-05 - val_loss: 1.0571e-04\n",
      "Epoch 40/40\n",
      "\u001b[1m281/281\u001b[0m \u001b[32m━━━━━━━━━━━━━━━━━━━━\u001b[0m\u001b[37m\u001b[0m \u001b[1m3s\u001b[0m 9ms/step - loss: 2.7232e-05 - val_loss: 9.3033e-05\n"
     ]
    },
    {
     "data": {
      "text/plain": [
       "<keras.src.callbacks.history.History at 0x1cbc1019730>"
      ]
     },
     "execution_count": 51,
     "metadata": {},
     "output_type": "execute_result"
    }
   ],
   "source": [
    "model.compile(optimizer='adam',loss='mean_squared_error')\n",
    "model.fit(train_sequence_generator,epochs=40,validation_data=test_sequence_generator)"
   ]
  },
  {
   "cell_type": "raw",
   "id": "6434291c-a0f9-4ec2-8bb4-89f5b3e04b14",
   "metadata": {},
   "source": [
    "making the predictions"
   ]
  },
  {
   "cell_type": "code",
   "execution_count": 52,
   "id": "8adb8e5b-08be-4d6f-8379-0c15581f48b5",
   "metadata": {},
   "outputs": [
    {
     "name": "stdout",
     "output_type": "stream",
     "text": [
      "\u001b[1m69/69\u001b[0m \u001b[32m━━━━━━━━━━━━━━━━━━━━\u001b[0m\u001b[37m\u001b[0m \u001b[1m0s\u001b[0m 5ms/step\n"
     ]
    }
   ],
   "source": [
    "predictions=model.predict(test_sequence_generator)"
   ]
  },
  {
   "cell_type": "raw",
   "id": "69395e5f-d84b-4c2f-984b-e7845e262b21",
   "metadata": {},
   "source": [
    "converting the predicted and test data values"
   ]
  },
  {
   "cell_type": "code",
   "execution_count": 53,
   "id": "e2932a5e-89e2-4f4c-9daf-2fb1ab06963a",
   "metadata": {},
   "outputs": [],
   "source": [
    "predictions=mmc.inverse_transform(predictions)\n",
    "actual_values=mmc.inverse_transform(test_data[time_steps:])"
   ]
  },
  {
   "cell_type": "raw",
   "id": "87ed9db6-ab79-417c-ba72-5b287a399612",
   "metadata": {},
   "source": [
    "plotting the graph"
   ]
  },
  {
   "cell_type": "code",
   "execution_count": 55,
   "id": "7ee7378b-5a10-4aee-81a5-5dcf06a8d7d8",
   "metadata": {},
   "outputs": [
    {
     "data": {
      "image/png": "[encoded data removed]",
      "text/plain": [
       "<Figure size 640x480 with 1 Axes>"
      ]
     },
     "metadata": {},
     "output_type": "display_data"
    }
   ],
   "source": [
    "import matplotlib.pyplot as plt\n",
    "plt.plot(actual_values,color='blue',label='Actual Stock Prices')\n",
    "plt.plot(predictions,color='red',label='Predicted Stock Prices')\n",
    "plt.show()"
   ]
  },
  {
   "cell_type": "raw",
   "id": "f98c1f00-470c-4462-9e76-7e96b85189f0",
   "metadata": {},
   "source": [
    "results"
   ]
  },
  {
   "cell_type": "code",
   "execution_count": 56,
   "id": "47cdaab0-c34b-4ac5-9195-466986701077",
   "metadata": {},
   "outputs": [
    {
     "name": "stdout",
     "output_type": "stream",
     "text": [
      "Accuracy :  0.9938774524232271\n",
      "Mean Squared Error :  5.886038973001355\n",
      "Root Mean Squared Error :  2.4261160262859143\n"
     ]
    }
   ],
   "source": [
    "from sklearn.metrics import r2_score,mean_squared_error\n",
    "accuracy=r2_score(predictions,actual_values)\n",
    "mse=mean_squared_error(predictions,actual_values)\n",
    "rmse=np.sqrt(mean_squared_error(predictions,actual_values))\n",
    "print('Accuracy : ',accuracy)\n",
    "print('Mean Squared Error : ',mse)\n",
    "print('Root Mean Squared Error : ',rmse)"
   ]
  },
  {
   "cell_type": "code",
   "execution_count": null,
   "id": "b44bc858-19aa-4063-9c9e-fc69118d7d62",
   "metadata": {},
   "outputs": [],
   "source": []
  }
 ],
 "metadata": {
  "kernelspec": {
   "display_name": "Python 3 (ipykernel)",
   "language": "python",
   "name": "python3"
  },
  "language_info": {
   "codemirror_mode": {
    "name": "ipython",
    "version": 3
   },
   "file_extension": ".py",
   "mimetype": "text/x-python",
   "name": "python",
   "nbconvert_exporter": "python",
   "pygments_lexer": "ipython3",
   "version": "3.12.7"
  }
 },
 "nbformat": 4,
 "nbformat_minor": 5
}
