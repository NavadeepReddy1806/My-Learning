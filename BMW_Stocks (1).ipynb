{
 "cells": [
  {
   "cell_type": "raw",
   "id": "845d6bd9-3bd3-427b-932e-59dc2e5f8865",
   "metadata": {},
   "source": [
    "Reading the dataset"
   ]
  },
  {
   "cell_type": "code",
   "execution_count": 42,
   "id": "0df90547-1c79-4bda-8b56-2744594ab8d2",
   "metadata": {},
   "outputs": [
    {
     "data": {
      "text/html": [
       "<div>\n",
       "<style scoped>\n",
       "    .dataframe tbody tr th:only-of-type {\n",
       "        vertical-align: middle;\n",
       "    }\n",
       "\n",
       "    .dataframe tbody tr th {\n",
       "        vertical-align: top;\n",
       "    }\n",
       "\n",
       "    .dataframe thead th {\n",
       "        text-align: right;\n",
       "    }\n",
       "</style>\n",
       "<table border=\"1\" class=\"dataframe\">\n",
       "  <thead>\n",
       "    <tr style=\"text-align: right;\">\n",
       "      <th></th>\n",
       "      <th>Date</th>\n",
       "      <th>Adj_Close</th>\n",
       "      <th>Close</th>\n",
       "      <th>High</th>\n",
       "      <th>Low</th>\n",
       "      <th>Open</th>\n",
       "      <th>Volume</th>\n",
       "    </tr>\n",
       "  </thead>\n",
       "  <tbody>\n",
       "    <tr>\n",
       "      <th>0</th>\n",
       "      <td>1996-11-08</td>\n",
       "      <td>8.100290</td>\n",
       "      <td>18.171000</td>\n",
       "      <td>18.209999</td>\n",
       "      <td>18.171000</td>\n",
       "      <td>18.209999</td>\n",
       "      <td>767000</td>\n",
       "    </tr>\n",
       "    <tr>\n",
       "      <th>1</th>\n",
       "      <td>1996-11-11</td>\n",
       "      <td>8.078445</td>\n",
       "      <td>18.122000</td>\n",
       "      <td>18.200001</td>\n",
       "      <td>18.082001</td>\n",
       "      <td>18.190001</td>\n",
       "      <td>260000</td>\n",
       "    </tr>\n",
       "    <tr>\n",
       "      <th>2</th>\n",
       "      <td>1996-11-12</td>\n",
       "      <td>8.139520</td>\n",
       "      <td>18.259001</td>\n",
       "      <td>18.327999</td>\n",
       "      <td>18.091999</td>\n",
       "      <td>18.160999</td>\n",
       "      <td>1066000</td>\n",
       "    </tr>\n",
       "    <tr>\n",
       "      <th>3</th>\n",
       "      <td>1996-11-13</td>\n",
       "      <td>8.126592</td>\n",
       "      <td>18.230000</td>\n",
       "      <td>18.344000</td>\n",
       "      <td>18.190001</td>\n",
       "      <td>18.344000</td>\n",
       "      <td>793000</td>\n",
       "    </tr>\n",
       "    <tr>\n",
       "      <th>4</th>\n",
       "      <td>1996-11-14</td>\n",
       "      <td>8.152893</td>\n",
       "      <td>18.289000</td>\n",
       "      <td>18.289000</td>\n",
       "      <td>18.132000</td>\n",
       "      <td>18.205000</td>\n",
       "      <td>351000</td>\n",
       "    </tr>\n",
       "    <tr>\n",
       "      <th>...</th>\n",
       "      <td>...</td>\n",
       "      <td>...</td>\n",
       "      <td>...</td>\n",
       "      <td>...</td>\n",
       "      <td>...</td>\n",
       "      <td>...</td>\n",
       "      <td>...</td>\n",
       "    </tr>\n",
       "    <tr>\n",
       "      <th>7207</th>\n",
       "      <td>2024-12-19</td>\n",
       "      <td>77.279999</td>\n",
       "      <td>77.279999</td>\n",
       "      <td>78.379997</td>\n",
       "      <td>76.900002</td>\n",
       "      <td>77.080002</td>\n",
       "      <td>1297262</td>\n",
       "    </tr>\n",
       "    <tr>\n",
       "      <th>7208</th>\n",
       "      <td>2024-12-20</td>\n",
       "      <td>77.580002</td>\n",
       "      <td>77.580002</td>\n",
       "      <td>77.860001</td>\n",
       "      <td>76.120003</td>\n",
       "      <td>76.699997</td>\n",
       "      <td>2000177</td>\n",
       "    </tr>\n",
       "    <tr>\n",
       "      <th>7209</th>\n",
       "      <td>2024-12-23</td>\n",
       "      <td>76.940002</td>\n",
       "      <td>76.940002</td>\n",
       "      <td>77.680000</td>\n",
       "      <td>76.260002</td>\n",
       "      <td>77.620003</td>\n",
       "      <td>642208</td>\n",
       "    </tr>\n",
       "    <tr>\n",
       "      <th>7210</th>\n",
       "      <td>2024-12-27</td>\n",
       "      <td>78.339996</td>\n",
       "      <td>78.339996</td>\n",
       "      <td>78.459999</td>\n",
       "      <td>76.739998</td>\n",
       "      <td>76.879997</td>\n",
       "      <td>958948</td>\n",
       "    </tr>\n",
       "    <tr>\n",
       "      <th>7211</th>\n",
       "      <td>2024-12-30</td>\n",
       "      <td>78.980003</td>\n",
       "      <td>78.980003</td>\n",
       "      <td>79.040001</td>\n",
       "      <td>77.839996</td>\n",
       "      <td>77.919998</td>\n",
       "      <td>456155</td>\n",
       "    </tr>\n",
       "  </tbody>\n",
       "</table>\n",
       "<p>7212 rows × 7 columns</p>\n",
       "</div>"
      ],
      "text/plain": [
       "            Date  Adj_Close      Close       High        Low       Open  \\\n",
       "0     1996-11-08   8.100290  18.171000  18.209999  18.171000  18.209999   \n",
       "1     1996-11-11   8.078445  18.122000  18.200001  18.082001  18.190001   \n",
       "2     1996-11-12   8.139520  18.259001  18.327999  18.091999  18.160999   \n",
       "3     1996-11-13   8.126592  18.230000  18.344000  18.190001  18.344000   \n",
       "4     1996-11-14   8.152893  18.289000  18.289000  18.132000  18.205000   \n",
       "...          ...        ...        ...        ...        ...        ...   \n",
       "7207  2024-12-19  77.279999  77.279999  78.379997  76.900002  77.080002   \n",
       "7208  2024-12-20  77.580002  77.580002  77.860001  76.120003  76.699997   \n",
       "7209  2024-12-23  76.940002  76.940002  77.680000  76.260002  77.620003   \n",
       "7210  2024-12-27  78.339996  78.339996  78.459999  76.739998  76.879997   \n",
       "7211  2024-12-30  78.980003  78.980003  79.040001  77.839996  77.919998   \n",
       "\n",
       "       Volume  \n",
       "0      767000  \n",
       "1      260000  \n",
       "2     1066000  \n",
       "3      793000  \n",
       "4      351000  \n",
       "...       ...  \n",
       "7207  1297262  \n",
       "7208  2000177  \n",
       "7209   642208  \n",
       "7210   958948  \n",
       "7211   456155  \n",
       "\n",
       "[7212 rows x 7 columns]"
      ]
     },
     "execution_count": 42,
     "metadata": {},
     "output_type": "execute_result"
    }
   ],
   "source": [
    "import pandas as pd\n",
    "import numpy as np\n",
    "data=pd.read_csv(r\"C:\\Users\\k.navadeepreddy\\Downloads\\BMW_Data.csv\")\n",
    "data"
   ]
  },
  {
   "cell_type": "code",
   "execution_count": 44,
   "id": "0e5919e3-e6f8-48e2-bab6-2627355541c3",
   "metadata": {},
   "outputs": [],
   "source": [
    "data['Date'] = pd.to_datetime(data['Date'])"
   ]
  },
  {
   "cell_type": "code",
   "execution_count": 45,
   "id": "87350dc7-8b08-4673-be9f-dfabf721f46c",
   "metadata": {},
   "outputs": [],
   "source": [
    "data=data[['Close']]"
   ]
  },
  {
   "cell_type": "raw",
   "id": "8959817d-5e03-4fde-9eeb-20b8857c92f4",
   "metadata": {},
   "source": [
    "Data Preprocessing"
   ]
  },
  {
   "cell_type": "code",
   "execution_count": 46,
   "id": "d1a07bd5-3e58-442b-a4c4-c5c070231b69",
   "metadata": {},
   "outputs": [],
   "source": [
    "from sklearn.preprocessing import MinMaxScaler\n",
    "mmc=MinMaxScaler(feature_range=(0,1))\n",
    "scaled_data=mmc.fit_transform(data)"
   ]
  },
  {
   "cell_type": "code",
   "execution_count": 9,
   "id": "c934fd21-d974-4976-8c57-1d2e657b2bc1",
   "metadata": {},
   "outputs": [],
   "source": [
    "time_steps=60"
   ]
  },
  {
   "cell_type": "raw",
   "id": "499ed9d9-a200-46d4-937b-d8023e0083a1",
   "metadata": {},
   "source": [
    "Generating time series sequences"
   ]
  },
  {
   "cell_type": "code",
   "execution_count": 47,
   "id": "6550fc3b-0026-4314-b27a-9ceca9d2ba61",
   "metadata": {},
   "outputs": [],
   "source": [
    "import tensorflow\n",
    "from tensorflow.keras.preprocessing.sequence import TimeseriesGenerator\n",
    "generator=TimeseriesGenerator(scaled_data,scaled_data,length=time_steps,batch_size=32)"
   ]
  },
  {
   "cell_type": "raw",
   "id": "2d1603d4-dbd2-4902-8e5c-cdb32f6b6b48",
   "metadata": {},
   "source": [
    "Preparing training data"
   ]
  },
  {
   "cell_type": "code",
   "execution_count": 48,
   "id": "5582bec5-1995-46ed-9042-19f430622d2d",
   "metadata": {},
   "outputs": [],
   "source": [
    "train_size=int(len(scaled_data)*0.8)\n",
    "train_data=scaled_data[:train_size]\n",
    "test_data=scaled_data[train_size:]"
   ]
  },
  {
   "cell_type": "raw",
   "id": "96720110-be7b-4b7e-b539-52176174299b",
   "metadata": {},
   "source": [
    "time series sequences for train and test data"
   ]
  },
  {
   "cell_type": "code",
   "execution_count": 49,
   "id": "b35e3370-b274-436c-9efa-6cd65417a01f",
   "metadata": {},
   "outputs": [],
   "source": [
    "train_sequence_generator=TimeseriesGenerator(train_data,train_data,length=time_steps,batch_size=32)\n",
    "test_sequence_generator=TimeseriesGenerator(test_data,test_data,length=time_steps,batch_size=32)"
   ]
  },
  {
   "cell_type": "raw",
   "id": "271625b7-1373-4135-a5de-175de7476afd",
   "metadata": {},
   "source": [
    "applying lstm's to the data"
   ]
  },
  {
   "cell_type": "code",
   "execution_count": 50,
   "id": "2f2344c6-6014-40d7-93cf-5638cfdbe349",
   "metadata": {},
   "outputs": [
    {
     "name": "stderr",
     "output_type": "stream",
     "text": [
      "C:\\Users\\k.navadeepreddy\\anaconda3\\Lib\\site-packages\\keras\\src\\layers\\rnn\\rnn.py:204: UserWarning: Do not pass an `input_shape`/`input_dim` argument to a layer. When using Sequential models, prefer using an `Input(shape)` object as the first layer in the model instead.\n",
      "  super().__init__(**kwargs)\n"
     ]
    }
   ],
   "source": [
    "from tensorflow.keras.models import Sequential\n",
    "from tensorflow.keras.layers import LSTM,Dense\n",
    "model=Sequential()\n",
    "model.add(LSTM(50,activation='relu',input_shape=(time_steps,1)))\n",
    "model.add(Dense(1))"
   ]
  },
  {
   "cell_type": "raw",
   "id": "1720012b-60ad-4410-8957-391ca072e4a0",
   "metadata": {},
   "source": [
    "training the model"
   ]
  },
  {
   "cell_type": "code",
   "execution_count": 51,
   "id": "861dacf3-8532-403b-86c1-93028b64a074",
   "metadata": {
    "scrolled": true
   },
   "outputs": [
    {
     "name": "stdout",
     "output_type": "stream",
     "text": [
      "Epoch 1/46\n"
     ]
    },
    {
     "name": "stderr",
     "output_type": "stream",
     "text": [
      "C:\\Users\\k.navadeepreddy\\anaconda3\\Lib\\site-packages\\keras\\src\\trainers\\data_adapters\\py_dataset_adapter.py:121: UserWarning: Your `PyDataset` class should call `super().__init__(**kwargs)` in its constructor. `**kwargs` can include `workers`, `use_multiprocessing`, `max_queue_size`. Do not pass these arguments to `fit()`, as they will be ignored.\n",
      "  self._warn_if_super_not_called()\n"
     ]
    },
    {
     "name": "stdout",
     "output_type": "stream",
     "text": [
      "\u001b[1m179/179\u001b[0m \u001b[32m━━━━━━━━━━━━━━━━━━━━\u001b[0m\u001b[37m\u001b[0m \u001b[1m3s\u001b[0m 9ms/step - loss: 0.0534 - val_loss: 0.0021\n",
      "Epoch 2/46\n",
      "\u001b[1m179/179\u001b[0m \u001b[32m━━━━━━━━━━━━━━━━━━━━\u001b[0m\u001b[37m\u001b[0m \u001b[1m1s\u001b[0m 8ms/step - loss: 0.0023 - val_loss: 8.9429e-04\n",
      "Epoch 3/46\n",
      "\u001b[1m179/179\u001b[0m \u001b[32m━━━━━━━━━━━━━━━━━━━━\u001b[0m\u001b[37m\u001b[0m \u001b[1m1s\u001b[0m 8ms/step - loss: 4.1890e-04 - val_loss: 8.4014e-04\n",
      "Epoch 4/46\n",
      "\u001b[1m179/179\u001b[0m \u001b[32m━━━━━━━━━━━━━━━━━━━━\u001b[0m\u001b[37m\u001b[0m \u001b[1m1s\u001b[0m 8ms/step - loss: 3.8202e-04 - val_loss: 9.5460e-04\n",
      "Epoch 5/46\n",
      "\u001b[1m179/179\u001b[0m \u001b[32m━━━━━━━━━━━━━━━━━━━━\u001b[0m\u001b[37m\u001b[0m \u001b[1m1s\u001b[0m 8ms/step - loss: 3.9269e-04 - val_loss: 7.7271e-04\n",
      "Epoch 6/46\n",
      "\u001b[1m179/179\u001b[0m \u001b[32m━━━━━━━━━━━━━━━━━━━━\u001b[0m\u001b[37m\u001b[0m \u001b[1m2s\u001b[0m 8ms/step - loss: 4.0794e-04 - val_loss: 7.5745e-04\n",
      "Epoch 7/46\n",
      "\u001b[1m179/179\u001b[0m \u001b[32m━━━━━━━━━━━━━━━━━━━━\u001b[0m\u001b[37m\u001b[0m \u001b[1m2s\u001b[0m 8ms/step - loss: 3.7980e-04 - val_loss: 6.8444e-04\n",
      "Epoch 8/46\n",
      "\u001b[1m179/179\u001b[0m \u001b[32m━━━━━━━━━━━━━━━━━━━━\u001b[0m\u001b[37m\u001b[0m \u001b[1m1s\u001b[0m 8ms/step - loss: 3.7207e-04 - val_loss: 7.8046e-04\n",
      "Epoch 9/46\n",
      "\u001b[1m179/179\u001b[0m \u001b[32m━━━━━━━━━━━━━━━━━━━━\u001b[0m\u001b[37m\u001b[0m \u001b[1m2s\u001b[0m 8ms/step - loss: 3.6426e-04 - val_loss: 8.5205e-04\n",
      "Epoch 10/46\n",
      "\u001b[1m179/179\u001b[0m \u001b[32m━━━━━━━━━━━━━━━━━━━━\u001b[0m\u001b[37m\u001b[0m \u001b[1m2s\u001b[0m 10ms/step - loss: 3.4817e-04 - val_loss: 6.3604e-04\n",
      "Epoch 11/46\n",
      "\u001b[1m179/179\u001b[0m \u001b[32m━━━━━━━━━━━━━━━━━━━━\u001b[0m\u001b[37m\u001b[0m \u001b[1m2s\u001b[0m 9ms/step - loss: 2.8338e-04 - val_loss: 6.0207e-04\n",
      "Epoch 12/46\n",
      "\u001b[1m179/179\u001b[0m \u001b[32m━━━━━━━━━━━━━━━━━━━━\u001b[0m\u001b[37m\u001b[0m \u001b[1m2s\u001b[0m 9ms/step - loss: 2.9139e-04 - val_loss: 9.2384e-04\n",
      "Epoch 13/46\n",
      "\u001b[1m179/179\u001b[0m \u001b[32m━━━━━━━━━━━━━━━━━━━━\u001b[0m\u001b[37m\u001b[0m \u001b[1m2s\u001b[0m 9ms/step - loss: 2.8108e-04 - val_loss: 7.9557e-04\n",
      "Epoch 14/46\n",
      "\u001b[1m179/179\u001b[0m \u001b[32m━━━━━━━━━━━━━━━━━━━━\u001b[0m\u001b[37m\u001b[0m \u001b[1m2s\u001b[0m 9ms/step - loss: 2.8177e-04 - val_loss: 5.1869e-04\n",
      "Epoch 15/46\n",
      "\u001b[1m179/179\u001b[0m \u001b[32m━━━━━━━━━━━━━━━━━━━━\u001b[0m\u001b[37m\u001b[0m \u001b[1m2s\u001b[0m 9ms/step - loss: 3.4540e-04 - val_loss: 5.6813e-04\n",
      "Epoch 16/46\n",
      "\u001b[1m179/179\u001b[0m \u001b[32m━━━━━━━━━━━━━━━━━━━━\u001b[0m\u001b[37m\u001b[0m \u001b[1m2s\u001b[0m 9ms/step - loss: 2.4086e-04 - val_loss: 5.0397e-04\n",
      "Epoch 17/46\n",
      "\u001b[1m179/179\u001b[0m \u001b[32m━━━━━━━━━━━━━━━━━━━━\u001b[0m\u001b[37m\u001b[0m \u001b[1m2s\u001b[0m 8ms/step - loss: 2.5741e-04 - val_loss: 5.3112e-04\n",
      "Epoch 18/46\n",
      "\u001b[1m179/179\u001b[0m \u001b[32m━━━━━━━━━━━━━━━━━━━━\u001b[0m\u001b[37m\u001b[0m \u001b[1m1s\u001b[0m 8ms/step - loss: 2.2793e-04 - val_loss: 5.2739e-04\n",
      "Epoch 19/46\n",
      "\u001b[1m179/179\u001b[0m \u001b[32m━━━━━━━━━━━━━━━━━━━━\u001b[0m\u001b[37m\u001b[0m \u001b[1m2s\u001b[0m 8ms/step - loss: 2.0044e-04 - val_loss: 6.4682e-04\n",
      "Epoch 20/46\n",
      "\u001b[1m179/179\u001b[0m \u001b[32m━━━━━━━━━━━━━━━━━━━━\u001b[0m\u001b[37m\u001b[0m \u001b[1m1s\u001b[0m 8ms/step - loss: 2.5594e-04 - val_loss: 5.0633e-04\n",
      "Epoch 21/46\n",
      "\u001b[1m179/179\u001b[0m \u001b[32m━━━━━━━━━━━━━━━━━━━━\u001b[0m\u001b[37m\u001b[0m \u001b[1m2s\u001b[0m 8ms/step - loss: 2.2788e-04 - val_loss: 5.9168e-04\n",
      "Epoch 22/46\n",
      "\u001b[1m179/179\u001b[0m \u001b[32m━━━━━━━━━━━━━━━━━━━━\u001b[0m\u001b[37m\u001b[0m \u001b[1m2s\u001b[0m 9ms/step - loss: 2.8538e-04 - val_loss: 5.5968e-04\n",
      "Epoch 23/46\n",
      "\u001b[1m179/179\u001b[0m \u001b[32m━━━━━━━━━━━━━━━━━━━━\u001b[0m\u001b[37m\u001b[0m \u001b[1m2s\u001b[0m 9ms/step - loss: 2.4773e-04 - val_loss: 3.6908e-04\n",
      "Epoch 24/46\n",
      "\u001b[1m179/179\u001b[0m \u001b[32m━━━━━━━━━━━━━━━━━━━━\u001b[0m\u001b[37m\u001b[0m \u001b[1m2s\u001b[0m 9ms/step - loss: 2.0913e-04 - val_loss: 3.7351e-04\n",
      "Epoch 25/46\n",
      "\u001b[1m179/179\u001b[0m \u001b[32m━━━━━━━━━━━━━━━━━━━━\u001b[0m\u001b[37m\u001b[0m \u001b[1m2s\u001b[0m 9ms/step - loss: 2.5682e-04 - val_loss: 3.3720e-04\n",
      "Epoch 26/46\n",
      "\u001b[1m179/179\u001b[0m \u001b[32m━━━━━━━━━━━━━━━━━━━━\u001b[0m\u001b[37m\u001b[0m \u001b[1m2s\u001b[0m 9ms/step - loss: 2.1389e-04 - val_loss: 3.3108e-04\n",
      "Epoch 27/46\n",
      "\u001b[1m179/179\u001b[0m \u001b[32m━━━━━━━━━━━━━━━━━━━━\u001b[0m\u001b[37m\u001b[0m \u001b[1m2s\u001b[0m 9ms/step - loss: 1.8944e-04 - val_loss: 3.8950e-04\n",
      "Epoch 28/46\n",
      "\u001b[1m179/179\u001b[0m \u001b[32m━━━━━━━━━━━━━━━━━━━━\u001b[0m\u001b[37m\u001b[0m \u001b[1m2s\u001b[0m 9ms/step - loss: 1.7663e-04 - val_loss: 9.2991e-04\n",
      "Epoch 29/46\n",
      "\u001b[1m179/179\u001b[0m \u001b[32m━━━━━━━━━━━━━━━━━━━━\u001b[0m\u001b[37m\u001b[0m \u001b[1m2s\u001b[0m 9ms/step - loss: 2.1895e-04 - val_loss: 2.9672e-04\n",
      "Epoch 30/46\n",
      "\u001b[1m179/179\u001b[0m \u001b[32m━━━━━━━━━━━━━━━━━━━━\u001b[0m\u001b[37m\u001b[0m \u001b[1m2s\u001b[0m 9ms/step - loss: 1.7198e-04 - val_loss: 3.0147e-04\n",
      "Epoch 31/46\n",
      "\u001b[1m179/179\u001b[0m \u001b[32m━━━━━━━━━━━━━━━━━━━━\u001b[0m\u001b[37m\u001b[0m \u001b[1m1s\u001b[0m 8ms/step - loss: 1.9034e-04 - val_loss: 3.9515e-04\n",
      "Epoch 32/46\n",
      "\u001b[1m179/179\u001b[0m \u001b[32m━━━━━━━━━━━━━━━━━━━━\u001b[0m\u001b[37m\u001b[0m \u001b[1m1s\u001b[0m 8ms/step - loss: 1.8161e-04 - val_loss: 3.8605e-04\n",
      "Epoch 33/46\n",
      "\u001b[1m179/179\u001b[0m \u001b[32m━━━━━━━━━━━━━━━━━━━━\u001b[0m\u001b[37m\u001b[0m \u001b[1m1s\u001b[0m 8ms/step - loss: 1.4373e-04 - val_loss: 3.3115e-04\n",
      "Epoch 34/46\n",
      "\u001b[1m179/179\u001b[0m \u001b[32m━━━━━━━━━━━━━━━━━━━━\u001b[0m\u001b[37m\u001b[0m \u001b[1m1s\u001b[0m 8ms/step - loss: 1.5776e-04 - val_loss: 5.9018e-04\n",
      "Epoch 35/46\n",
      "\u001b[1m179/179\u001b[0m \u001b[32m━━━━━━━━━━━━━━━━━━━━\u001b[0m\u001b[37m\u001b[0m \u001b[1m1s\u001b[0m 8ms/step - loss: 1.9516e-04 - val_loss: 3.1186e-04\n",
      "Epoch 36/46\n",
      "\u001b[1m179/179\u001b[0m \u001b[32m━━━━━━━━━━━━━━━━━━━━\u001b[0m\u001b[37m\u001b[0m \u001b[1m1s\u001b[0m 8ms/step - loss: 1.7661e-04 - val_loss: 2.6483e-04\n",
      "Epoch 37/46\n",
      "\u001b[1m179/179\u001b[0m \u001b[32m━━━━━━━━━━━━━━━━━━━━\u001b[0m\u001b[37m\u001b[0m \u001b[1m2s\u001b[0m 8ms/step - loss: 1.5529e-04 - val_loss: 3.0023e-04\n",
      "Epoch 38/46\n",
      "\u001b[1m179/179\u001b[0m \u001b[32m━━━━━━━━━━━━━━━━━━━━\u001b[0m\u001b[37m\u001b[0m \u001b[1m2s\u001b[0m 8ms/step - loss: 1.3457e-04 - val_loss: 9.5667e-04\n",
      "Epoch 39/46\n",
      "\u001b[1m179/179\u001b[0m \u001b[32m━━━━━━━━━━━━━━━━━━━━\u001b[0m\u001b[37m\u001b[0m \u001b[1m2s\u001b[0m 10ms/step - loss: 1.7455e-04 - val_loss: 2.5807e-04\n",
      "Epoch 40/46\n",
      "\u001b[1m179/179\u001b[0m \u001b[32m━━━━━━━━━━━━━━━━━━━━\u001b[0m\u001b[37m\u001b[0m \u001b[1m2s\u001b[0m 9ms/step - loss: 1.3778e-04 - val_loss: 3.1153e-04\n",
      "Epoch 41/46\n",
      "\u001b[1m179/179\u001b[0m \u001b[32m━━━━━━━━━━━━━━━━━━━━\u001b[0m\u001b[37m\u001b[0m \u001b[1m2s\u001b[0m 9ms/step - loss: 1.4319e-04 - val_loss: 2.4031e-04\n",
      "Epoch 42/46\n",
      "\u001b[1m179/179\u001b[0m \u001b[32m━━━━━━━━━━━━━━━━━━━━\u001b[0m\u001b[37m\u001b[0m \u001b[1m2s\u001b[0m 9ms/step - loss: 1.3779e-04 - val_loss: 2.4452e-04\n",
      "Epoch 43/46\n",
      "\u001b[1m179/179\u001b[0m \u001b[32m━━━━━━━━━━━━━━━━━━━━\u001b[0m\u001b[37m\u001b[0m \u001b[1m2s\u001b[0m 9ms/step - loss: 1.8420e-04 - val_loss: 2.7447e-04\n",
      "Epoch 44/46\n",
      "\u001b[1m179/179\u001b[0m \u001b[32m━━━━━━━━━━━━━━━━━━━━\u001b[0m\u001b[37m\u001b[0m \u001b[1m2s\u001b[0m 9ms/step - loss: 1.6429e-04 - val_loss: 2.2519e-04\n",
      "Epoch 45/46\n",
      "\u001b[1m179/179\u001b[0m \u001b[32m━━━━━━━━━━━━━━━━━━━━\u001b[0m\u001b[37m\u001b[0m \u001b[1m2s\u001b[0m 9ms/step - loss: 1.4357e-04 - val_loss: 5.3566e-04\n",
      "Epoch 46/46\n",
      "\u001b[1m179/179\u001b[0m \u001b[32m━━━━━━━━━━━━━━━━━━━━\u001b[0m\u001b[37m\u001b[0m \u001b[1m2s\u001b[0m 9ms/step - loss: 1.7555e-04 - val_loss: 2.3137e-04\n"
     ]
    },
    {
     "data": {
      "text/plain": [
       "<keras.src.callbacks.history.History at 0x1bbf52c9430>"
      ]
     },
     "execution_count": 51,
     "metadata": {},
     "output_type": "execute_result"
    }
   ],
   "source": [
    "model.compile(optimizer='adam',loss='mean_squared_error')\n",
    "model.fit(train_sequence_generator,epochs=46,validation_data=test_sequence_generator)"
   ]
  },
  {
   "cell_type": "raw",
   "id": "f2f965dc-343a-4aa9-928a-39e06d8ec362",
   "metadata": {},
   "source": [
    "making the predictions"
   ]
  },
  {
   "cell_type": "code",
   "execution_count": 52,
   "id": "2353ecbd-d4a9-4b9f-92cb-3d41d9a2f74f",
   "metadata": {},
   "outputs": [
    {
     "name": "stdout",
     "output_type": "stream",
     "text": [
      "\u001b[1m44/44\u001b[0m \u001b[32m━━━━━━━━━━━━━━━━━━━━\u001b[0m\u001b[37m\u001b[0m \u001b[1m0s\u001b[0m 5ms/step\n"
     ]
    }
   ],
   "source": [
    "predictions=model.predict(test_sequence_generator)"
   ]
  },
  {
   "cell_type": "raw",
   "id": "572ff2de-f57b-41c0-a1f6-43eba897e1f1",
   "metadata": {},
   "source": [
    "converting the predicted and test data into normal values"
   ]
  },
  {
   "cell_type": "code",
   "execution_count": 53,
   "id": "e5951b62-e099-4638-b8ce-3910064a246b",
   "metadata": {},
   "outputs": [],
   "source": [
    "predictions=mmc.inverse_transform(predictions)\n",
    "actual_values=mmc.inverse_transform(test_data[time_steps:])"
   ]
  },
  {
   "cell_type": "raw",
   "id": "d026613a-b4c7-4e43-9615-13bea1fe9e99",
   "metadata": {},
   "source": [
    "plotting the graph"
   ]
  },
  {
   "cell_type": "code",
   "execution_count": 54,
   "id": "31f8d786-50a2-4d31-a2d0-75de964ad2cf",
   "metadata": {},
   "outputs": [
    {
     "data": {
      "image/png": "[encoded data removed]",
      "text/plain": [
       "<Figure size 1200x600 with 1 Axes>"
      ]
     },
     "metadata": {},
     "output_type": "display_data"
    }
   ],
   "source": [
    "import matplotlib.pyplot as plt\n",
    "plt.figure(figsize=(12,6))\n",
    "plt.plot(actual_values,label=\"Actual Stock Prices\")\n",
    "plt.plot(predictions,label=\"Predicted\")\n",
    "plt.title(\"BMW Stock Predictions\")\n",
    "plt.legend()\n",
    "plt.show()"
   ]
  },
  {
   "cell_type": "raw",
   "id": "931c84d0-4f43-4b7c-9cfb-015767669c01",
   "metadata": {},
   "source": [
    "results"
   ]
  },
  {
   "cell_type": "code",
   "execution_count": 55,
   "id": "1e03d1b6-41fa-4a03-81fa-014899fc82b7",
   "metadata": {},
   "outputs": [],
   "source": [
    "from sklearn.metrics import r2_score,mean_squared_error\n",
    "accuracy=r2_score(predictions,actual_values)\n",
    "mse=mean_squared_error(predictions,actual_values)\n",
    "rmse=np.sqrt(mean_squared_error(predictions,actual_values))"
   ]
  },
  {
   "cell_type": "code",
   "execution_count": 56,
   "id": "4609b328-fd57-4bb5-9aaf-d553966c67e9",
   "metadata": {},
   "outputs": [
    {
     "name": "stdout",
     "output_type": "stream",
     "text": [
      "Accuracy :  0.9890495250236783\n",
      "Mean Squared Error :  2.578172261470327\n",
      "Root Mean Squared Error :  1.6056687894675934\n"
     ]
    }
   ],
   "source": [
    "print('Accuracy : ',accuracy)\n",
    "print('Mean Squared Error : ',mse)\n",
    "print('Root Mean Squared Error : ',rmse)"
   ]
  },
  {
   "cell_type": "code",
   "execution_count": null,
   "id": "df76e2cc-a79a-4b17-8d1e-513f89eb6126",
   "metadata": {},
   "outputs": [],
   "source": []
  }
 ],
 "metadata": {
  "kernelspec": {
   "display_name": "Python 3 (ipykernel)",
   "language": "python",
   "name": "python3"
  },
  "language_info": {
   "codemirror_mode": {
    "name": "ipython",
    "version": 3
   },
   "file_extension": ".py",
   "mimetype": "text/x-python",
   "name": "python",
   "nbconvert_exporter": "python",
   "pygments_lexer": "ipython3",
   "version": "3.12.7"
  }
 },
 "nbformat": 4,
 "nbformat_minor": 5
}
